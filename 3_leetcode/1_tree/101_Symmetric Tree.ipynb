{
 "cells": [
  {
   "cell_type": "code",
   "execution_count": 13,
   "id": "ecd55f94-0051-45b9-9577-4d803198392a",
   "metadata": {},
   "outputs": [],
   "source": [
    "# Definition for a binary tree node.\n",
    "from typing import Optional\n",
    "class TreeNode:\n",
    "    def __init__(self, val=0, left=None, right=None):\n",
    "        self.val = val\n",
    "        self.left = left\n",
    "        self.right = right"
   ]
  },
  {
   "cell_type": "code",
   "execution_count": 17,
   "id": "2fe86c3b-91f8-4f1b-ac1e-714aa86fca94",
   "metadata": {},
   "outputs": [],
   "source": [
    "class Solution:\n",
    "    def check_symmetric(self, left, right):\n",
    "        if left is None and right is None:\n",
    "            return True\n",
    "        if left is None or right is None or left.val != right.val:\n",
    "            return False\n",
    "        return (left.val == right.val) and self.check_symmetric(left.left, right.right) and self.check_symmetric(left.right, right.left)\n",
    "        \n",
    "    def isSymmetric(self, root: Optional[TreeNode]) -> bool:\n",
    "        # base case\n",
    "        return self.check_symmetric(root.left, root.right)\n",
    "\n",
    "        "
   ]
  },
  {
   "cell_type": "code",
   "execution_count": 18,
   "id": "952b9c7a-22f1-4497-9e27-4be857f1fbd6",
   "metadata": {},
   "outputs": [],
   "source": [
    "root = TreeNode(1)  # Root node  \n",
    "root.left = TreeNode(2)  \n",
    "root.right = TreeNode(2)  \n",
    "root.left.left = TreeNode(3)\n",
    "root.left.right = TreeNode(4)\n",
    "root.right.left = TreeNode(4)  \n",
    "root.right.right = TreeNode(3)  "
   ]
  },
  {
   "cell_type": "code",
   "execution_count": 19,
   "id": "641ace18-3f14-47e5-becb-5796519ad3e8",
   "metadata": {},
   "outputs": [
    {
     "data": {
      "text/plain": [
       "True"
      ]
     },
     "execution_count": 19,
     "metadata": {},
     "output_type": "execute_result"
    }
   ],
   "source": [
    "sol = Solution()\n",
    "# sol.preorderTraversal(root)\n",
    "sol.isSymmetric(root)"
   ]
  },
  {
   "cell_type": "code",
   "execution_count": null,
   "id": "31147b28-adcc-495d-be23-200c9c32977e",
   "metadata": {},
   "outputs": [],
   "source": []
  }
 ],
 "metadata": {
  "kernelspec": {
   "display_name": "Python 3 (ipykernel)",
   "language": "python",
   "name": "python3"
  },
  "language_info": {
   "codemirror_mode": {
    "name": "ipython",
    "version": 3
   },
   "file_extension": ".py",
   "mimetype": "text/x-python",
   "name": "python",
   "nbconvert_exporter": "python",
   "pygments_lexer": "ipython3",
   "version": "3.11.9"
  }
 },
 "nbformat": 4,
 "nbformat_minor": 5
}

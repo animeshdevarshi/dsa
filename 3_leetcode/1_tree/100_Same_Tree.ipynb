{
 "cells": [
  {
   "cell_type": "code",
   "execution_count": 8,
   "id": "9d2d57f6-4c79-4067-96df-428cad8fd4a7",
   "metadata": {},
   "outputs": [],
   "source": [
    "from typing import Optional\n",
    "class TreeNode:\n",
    "    def __init__(self, val=0, left=None, right=None):\n",
    "        self.val = val\n",
    "        self.left = left\n",
    "        self.right = right"
   ]
  },
  {
   "cell_type": "code",
   "execution_count": 23,
   "id": "d9d113bb-c261-4b7c-b788-bc71bc3d6acc",
   "metadata": {},
   "outputs": [],
   "source": [
    "# Brut force\n",
    "class Solution:\n",
    "    def isSameTree(self, p: Optional[TreeNode], q: Optional[TreeNode]) -> bool:\n",
    "        if p is None and q is None:\n",
    "            return True\n",
    "        if p is None or q is None:\n",
    "            return False\n",
    "        if p.left is None and p.right is None and q.left is None and q.right is None and p.val == q.val:\n",
    "            return True\n",
    "        if p.val == q.val and self.isSameTree(p.left, q.left) and self.isSameTree(p.right, q.right):\n",
    "            return True\n",
    "        return False\n",
    "        "
   ]
  },
  {
   "cell_type": "code",
   "execution_count": null,
   "id": "9094ba4a-0e99-4d10-b86e-7cad9f8631ec",
   "metadata": {},
   "outputs": [],
   "source": [
    "# Optimized\n",
    "class Solution:\n",
    "    def isSameTree(self, p: Optional[TreeNode], q: Optional[TreeNode]) -> bool:\n",
    "        if p is None and q is None:\n",
    "            return True\n",
    "        if p is None or q is None:\n",
    "            return False\n",
    "        if (p and q and p.val != q.val):\n",
    "            return False\n",
    "        return self.isSameTree(p.left, q.left) and self.isSameTree(p.right, q.right)\n",
    "\n",
    "        "
   ]
  },
  {
   "cell_type": "code",
   "execution_count": 20,
   "id": "03e898ce-2935-4e29-8e04-d1c5e8f5d1ce",
   "metadata": {},
   "outputs": [],
   "source": [
    "p = TreeNode(1)  # Root node  \n",
    "p.left = TreeNode(2)  \n",
    "p.right = TreeNode(3)  \n",
    "p.left.left = TreeNode(4)\n",
    "p.left.right = TreeNode(5)\n",
    "p.right.left = TreeNode(6)  \n",
    "p.right.right = TreeNode(7)  \n",
    "\n",
    "\n"
   ]
  },
  {
   "cell_type": "code",
   "execution_count": 21,
   "id": "70c72688-a906-442f-8544-01596fd15e66",
   "metadata": {},
   "outputs": [],
   "source": [
    "q = TreeNode(1)  # Root node  \n",
    "q.left = TreeNode(2)  \n",
    "q.right = TreeNode(3)  \n",
    "q.left.left = TreeNode(4)\n",
    "q.left.right = TreeNode(5)\n",
    "q.right.left = TreeNode(6)  \n",
    "q.right.right = TreeNode(8)  "
   ]
  },
  {
   "cell_type": "code",
   "execution_count": 22,
   "id": "3d614ebf-8b1f-419f-977e-a3c1e0f1f63b",
   "metadata": {},
   "outputs": [
    {
     "data": {
      "text/plain": [
       "False"
      ]
     },
     "execution_count": 22,
     "metadata": {},
     "output_type": "execute_result"
    }
   ],
   "source": [
    "sol = Solution()\n",
    "sol.isSameTree(p,q)"
   ]
  },
  {
   "cell_type": "code",
   "execution_count": null,
   "id": "b724e610-6d94-4146-bb46-13189b58cc6b",
   "metadata": {},
   "outputs": [],
   "source": []
  }
 ],
 "metadata": {
  "kernelspec": {
   "display_name": "Python 3 (ipykernel)",
   "language": "python",
   "name": "python3"
  },
  "language_info": {
   "codemirror_mode": {
    "name": "ipython",
    "version": 3
   },
   "file_extension": ".py",
   "mimetype": "text/x-python",
   "name": "python",
   "nbconvert_exporter": "python",
   "pygments_lexer": "ipython3",
   "version": "3.11.9"
  }
 },
 "nbformat": 4,
 "nbformat_minor": 5
}

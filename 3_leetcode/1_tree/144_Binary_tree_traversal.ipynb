{
 "cells": [
  {
   "cell_type": "code",
   "execution_count": 1,
   "id": "825295ed-af1b-4fe5-bd55-019190979232",
   "metadata": {},
   "outputs": [],
   "source": [
    "from typing import List, Optional"
   ]
  },
  {
   "cell_type": "code",
   "execution_count": 2,
   "id": "026d645e-54c7-4d6c-9b4e-da84178da9ea",
   "metadata": {},
   "outputs": [],
   "source": [
    "class TreeNode:\n",
    "    def __init__(self, val=0, left=None, right=None):\n",
    "        self.val = val\n",
    "        self.left = left\n",
    "        self.right = right"
   ]
  },
  {
   "cell_type": "code",
   "execution_count": 19,
   "id": "aab01de0-ed90-48aa-a0b2-cc43ea923eb2",
   "metadata": {},
   "outputs": [],
   "source": [
    "class Solution:\n",
    "    def preorderTraversal(self, root: Optional[TreeNode]) -> List[int]:\n",
    "        if root is None:\n",
    "            return []\n",
    "\n",
    "        return [root.val] + self.preorderTraversal(root.left) + self.preorderTraversal(root.right)\n",
    "\n",
    "    def preorderTraversal_IT(self, root: Optional[TreeNode]) -> List[int]:\n",
    "        stack = []\n",
    "        result = []\n",
    "\n",
    "        if root is not None:\n",
    "            stack.append(root)\n",
    "\n",
    "        while stack != []:\n",
    "            curr = stack.pop()\n",
    "            result.append(curr.val)\n",
    "\n",
    "            if curr.right is not None:\n",
    "                stack.append(curr.right)\n",
    "            if curr.left is not None:\n",
    "                stack.append(curr.left)\n",
    "\n",
    "        return result\n",
    "        \n",
    "        "
   ]
  },
  {
   "cell_type": "code",
   "execution_count": 20,
   "id": "3e3a5fa8-f4a0-4510-b5ed-4ab9e5cc43fc",
   "metadata": {},
   "outputs": [],
   "source": [
    "root = TreeNode(1)  # Root node  \n",
    "root.left = TreeNode(2)  \n",
    "root.right = TreeNode(3)  \n",
    "root.left.left = TreeNode(4)\n",
    "root.left.right = TreeNode(5)\n",
    "root.right.left = TreeNode(6)  \n",
    "root.right.right = TreeNode(7)  "
   ]
  },
  {
   "cell_type": "markdown",
   "id": "aa02e41f-bacf-46d7-9b9a-ab1242bb1f72",
   "metadata": {},
   "source": [
    "```\n",
    "        1  \n",
    "      /   \\  \n",
    "    2       3  \n",
    "  /   \\   /   \\  \n",
    " 4     5 6     7\n",
    "```"
   ]
  },
  {
   "cell_type": "code",
   "execution_count": 21,
   "id": "548dc9ef-d9b7-4a2d-9b57-03a47a2bf8c8",
   "metadata": {},
   "outputs": [
    {
     "data": {
      "text/plain": [
       "[1, 2, 4, 5, 3, 6, 7]"
      ]
     },
     "execution_count": 21,
     "metadata": {},
     "output_type": "execute_result"
    }
   ],
   "source": [
    "sol = Solution()\n",
    "# sol.preorderTraversal(root)\n",
    "sol.preorderTraversal_IT(root)"
   ]
  },
  {
   "cell_type": "code",
   "execution_count": null,
   "id": "2f0d4600-265e-482f-a5e3-1c3300e7a2e9",
   "metadata": {},
   "outputs": [],
   "source": []
  }
 ],
 "metadata": {
  "kernelspec": {
   "display_name": "Python 3 (ipykernel)",
   "language": "python",
   "name": "python3"
  },
  "language_info": {
   "codemirror_mode": {
    "name": "ipython",
    "version": 3
   },
   "file_extension": ".py",
   "mimetype": "text/x-python",
   "name": "python",
   "nbconvert_exporter": "python",
   "pygments_lexer": "ipython3",
   "version": "3.11.9"
  }
 },
 "nbformat": 4,
 "nbformat_minor": 5
}

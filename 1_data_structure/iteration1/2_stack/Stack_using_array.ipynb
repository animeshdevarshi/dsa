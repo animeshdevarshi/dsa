{
 "cells": [
  {
   "cell_type": "code",
   "execution_count": null,
   "metadata": {},
   "outputs": [],
   "source": []
  },
  {
   "cell_type": "markdown",
   "metadata": {},
   "source": [
    "## Step-by-step approach:\n",
    "\n",
    "1. Initialize an array to represent the stack.\n",
    "2. Use the end of the array to represent the top of the stack.\n",
    "3. I mplement push (add to end), pop (remove from the end), and peek (check end) operations, ensuring to handle empty and full stack conditions."
   ]
  },
  {
   "cell_type": "code",
   "execution_count": null,
   "metadata": {},
   "outputs": [],
   "source": [
    "class Stack:\n",
    "    def __init__(self, capacity):\n",
    "        self.top = -1\n",
    "        self.capacity = capacity\n",
    "        self.stack = capacity *  [None]\n",
    "    \n",
    "    def push(self, val):\n",
    "        if self.top < self.capacity - 1:\n",
    "            self.top = self.top + 1\n",
    "            self.stack[self.top] = val\n",
    "            print(self.top)\n",
    "        else:\n",
    "            print(\"Push failed as stack is full\")\n",
    "    \n",
    "    def pop(self):\n",
    "        if self.top == -1:\n",
    "            print(\"Stack is empty\")\n",
    "            return None\n",
    "        else:\n",
    "            val = self.stack[self.top]\n",
    "            self.stack[self.top] = None\n",
    "            self.top = self.top - 1\n",
    "            return val\n",
    "        \n",
    "    def display(self):\n",
    "        \"\"\"Display all elements in the stack.\"\"\"\n",
    "        if self.top == -1:\n",
    "            print(\"The stack is empty.\")\n",
    "        else:\n",
    "            print(\"Stack elements from top to bottom:\")\n",
    "            for i in range(self.top, -1, -1):\n",
    "                print(self.stack[i])"
   ]
  },
  {
   "cell_type": "code",
   "execution_count": 40,
   "metadata": {},
   "outputs": [],
   "source": [
    "sol = Stack(10)"
   ]
  },
  {
   "cell_type": "code",
   "execution_count": 44,
   "metadata": {},
   "outputs": [
    {
     "name": "stdout",
     "output_type": "stream",
     "text": [
      "1\n"
     ]
    }
   ],
   "source": [
    "sol.push(4)"
   ]
  },
  {
   "cell_type": "code",
   "execution_count": 45,
   "metadata": {},
   "outputs": [
    {
     "data": {
      "text/plain": [
       "[2, 4, None, None, None, None, None, None, None, None]"
      ]
     },
     "execution_count": 45,
     "metadata": {},
     "output_type": "execute_result"
    }
   ],
   "source": [
    "sol.stack"
   ]
  },
  {
   "cell_type": "code",
   "execution_count": 48,
   "metadata": {},
   "outputs": [
    {
     "data": {
      "text/plain": [
       "4"
      ]
     },
     "execution_count": 48,
     "metadata": {},
     "output_type": "execute_result"
    }
   ],
   "source": [
    "sol.pop()"
   ]
  },
  {
   "cell_type": "code",
   "execution_count": 49,
   "metadata": {},
   "outputs": [
    {
     "name": "stdout",
     "output_type": "stream",
     "text": [
      "Stack elements from top to bottom:\n",
      "2\n"
     ]
    }
   ],
   "source": [
    "sol.display()"
   ]
  },
  {
   "cell_type": "code",
   "execution_count": null,
   "metadata": {},
   "outputs": [],
   "source": []
  }
 ],
 "metadata": {
  "kernelspec": {
   "display_name": "venv",
   "language": "python",
   "name": "python3"
  },
  "language_info": {
   "codemirror_mode": {
    "name": "ipython",
    "version": 3
   },
   "file_extension": ".py",
   "mimetype": "text/x-python",
   "name": "python",
   "nbconvert_exporter": "python",
   "pygments_lexer": "ipython3",
   "version": "3.13.0"
  }
 },
 "nbformat": 4,
 "nbformat_minor": 2
}

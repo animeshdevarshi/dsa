{
 "cells": [
  {
   "cell_type": "code",
   "execution_count": 1,
   "metadata": {},
   "outputs": [],
   "source": [
    "class Node:\n",
    "    def __init__(self, data):\n",
    "        self.data = data\n",
    "        self.next = None"
   ]
  },
  {
   "cell_type": "code",
   "execution_count": 6,
   "metadata": {},
   "outputs": [],
   "source": [
    "class Queue:\n",
    "    def __init__(self) -> None:\n",
    "        self.front =  None\n",
    "        self.rear = None\n",
    "    \n",
    "    def is_empty(self):\n",
    "        return self.rear is None and self.rear is None\n",
    "    \n",
    "    def dequeue(self):\n",
    "        if self.is_empty():\n",
    "            print(\"Queue is empty\")\n",
    "            return None\n",
    "        item = self.front\n",
    "        self.front =  item.next\n",
    "        if self.front  ==  None:\n",
    "            self.rear = None\n",
    "        return item.data\n",
    "    \n",
    "    def enqueue(self, val):\n",
    "        new_node = Node(val)\n",
    "\n",
    "        if self.is_empty():\n",
    "            self.front = self.rear = new_node\n",
    "        else:\n",
    "            self.rear.next = new_node\n",
    "            self.rear = new_node\n",
    "    \n",
    "    def peek(self):\n",
    "        \"\"\"Return the front element of the queue without removing it.\"\"\"\n",
    "        if self.is_empty():\n",
    "            print(\"Queue is empty\")\n",
    "            return None\n",
    "        return self.front.data\n",
    "\n",
    "    def display(self):\n",
    "        \"\"\"Display all elements in the queue.\"\"\"\n",
    "        if self.is_empty():\n",
    "            print(\"Queue is empty\")\n",
    "        else:\n",
    "            current = self.front\n",
    "            elements = []\n",
    "            while current:\n",
    "                elements.append(current.data)\n",
    "                current = current.next\n",
    "            print(\"Queue elements:\", elements)"
   ]
  },
  {
   "cell_type": "code",
   "execution_count": 7,
   "metadata": {},
   "outputs": [],
   "source": [
    "queue = Queue()"
   ]
  },
  {
   "cell_type": "code",
   "execution_count": 8,
   "metadata": {},
   "outputs": [
    {
     "name": "stdout",
     "output_type": "stream",
     "text": [
      "Queue elements: [10, 20, 30]\n",
      "Dequeued: 10\n",
      "Queue elements: [20, 30]\n",
      "Front element: 20\n"
     ]
    }
   ],
   "source": [
    "queue.enqueue(10)\n",
    "queue.enqueue(20)\n",
    "queue.enqueue(30)\n",
    "queue.display()\n",
    "print(\"Dequeued:\", queue.dequeue())\n",
    "queue.display()\n",
    "print(\"Front element:\", queue.peek())"
   ]
  },
  {
   "cell_type": "code",
   "execution_count": null,
   "metadata": {},
   "outputs": [],
   "source": []
  }
 ],
 "metadata": {
  "kernelspec": {
   "display_name": "venv",
   "language": "python",
   "name": "python3"
  },
  "language_info": {
   "codemirror_mode": {
    "name": "ipython",
    "version": 3
   },
   "file_extension": ".py",
   "mimetype": "text/x-python",
   "name": "python",
   "nbconvert_exporter": "python",
   "pygments_lexer": "ipython3",
   "version": "3.13.0"
  }
 },
 "nbformat": 4,
 "nbformat_minor": 2
}

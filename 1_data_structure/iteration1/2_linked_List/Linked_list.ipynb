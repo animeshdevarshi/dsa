{
 "cells": [
  {
   "cell_type": "code",
   "execution_count": 36,
   "metadata": {},
   "outputs": [],
   "source": [
    "class Node:\n",
    "    def __init__(self, data):\n",
    "        self.data = data\n",
    "        self.next = None\n",
    "\n",
    "class LinkedList:\n",
    "    def __init__(self):\n",
    "        self.head =  None\n",
    "\n",
    "    #Insert a node in the end\n",
    "    def insert(self, data):\n",
    "        new_node = Node(data)\n",
    "        if self.head is None:\n",
    "            self.head = new_node\n",
    "        else:\n",
    "            last = self.head\n",
    "            while last.next is not None:\n",
    "                last = last.next\n",
    "            last.next= new_node\n",
    "    \n",
    "    def display(self):\n",
    "        temp = self.head\n",
    "        while temp is not None:\n",
    "            print(temp.data, end=\" -> \")\n",
    "            temp = temp.next\n",
    "        print(\"None\")\n",
    "    \n",
    "    # delete a noode\n",
    "    def delete(self, key):\n",
    "        if self.head is None:\n",
    "            print(\"Key not found in the list\")\n",
    "            return\n",
    "\n",
    "        temp = self.head\n",
    "        if temp.data == key:\n",
    "            self.head = temp.next\n",
    "            temp  = None\n",
    "        \n",
    "        prev = None\n",
    "        while temp is not None:\n",
    "            if temp.data == key:\n",
    "                prev.next = temp.next\n",
    "                break\n",
    "            prev = temp\n",
    "            temp = temp.next\n",
    "        \n",
    "        if temp is None:\n",
    "            print(\"Key not found in the list\")\n",
    "            return\n",
    "\n",
    "        temp = None\n",
    "    \n",
    "    # Add a node after a node with data = key\n",
    "    def insertAfter(self, key, data):\n",
    "        if self.head is None:\n",
    "            print(\"The list is empty\")\n",
    "            return\n",
    "        \n",
    "        \n",
    "        temp = self.head\n",
    "        next = temp.next\n",
    "        while temp is not None:\n",
    "            if temp.data == key:\n",
    "                new_node = Node(data)\n",
    "                new_node.next = temp.next\n",
    "                temp.next = new_node\n",
    "                return\n",
    "            temp = temp.next\n",
    "        print(\"Not found\")\n",
    "\n",
    "\n",
    "\n",
    "\n",
    "        \n",
    "\n"
   ]
  },
  {
   "cell_type": "code",
   "execution_count": 37,
   "metadata": {},
   "outputs": [
    {
     "name": "stdout",
     "output_type": "stream",
     "text": [
      "2 -> 4 -> 6 -> 2 -> None\n",
      "2 -> 4 -> 6 -> 2 -> None\n"
     ]
    }
   ],
   "source": [
    "llist = LinkedList()\n",
    "llist.insert(2)\n",
    "llist.insert(4)\n",
    "llist.insert(6)\n",
    "llist.insert(2)\n",
    "llist.display()\n",
    "# llist.delete(6)\n",
    "llist.display()"
   ]
  },
  {
   "cell_type": "code",
   "execution_count": 39,
   "metadata": {},
   "outputs": [
    {
     "name": "stdout",
     "output_type": "stream",
     "text": [
      "2 -> 7 -> 4 -> 6 -> 2 -> None\n"
     ]
    }
   ],
   "source": [
    "llist.insertAfter(2, 7)\n",
    "llist.display()"
   ]
  },
  {
   "cell_type": "code",
   "execution_count": null,
   "metadata": {},
   "outputs": [],
   "source": []
  }
 ],
 "metadata": {
  "kernelspec": {
   "display_name": "venv",
   "language": "python",
   "name": "python3"
  },
  "language_info": {
   "codemirror_mode": {
    "name": "ipython",
    "version": 3
   },
   "file_extension": ".py",
   "mimetype": "text/x-python",
   "name": "python",
   "nbconvert_exporter": "python",
   "pygments_lexer": "ipython3",
   "version": "3.13.0"
  }
 },
 "nbformat": 4,
 "nbformat_minor": 2
}

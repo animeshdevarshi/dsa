{
 "cells": [
  {
   "cell_type": "code",
   "execution_count": 8,
   "id": "467e84e0-a8ef-4a04-8f3c-5d855f664c79",
   "metadata": {},
   "outputs": [],
   "source": [
    "class TreeNode:\n",
    "    def __init__(self, value):\n",
    "        self.val = value\n",
    "        self.left= None\n",
    "        self.right = None\n",
    "        "
   ]
  },
  {
   "cell_type": "code",
   "execution_count": 55,
   "id": "369706ad-db49-4d1d-bd9f-04a062ee652a",
   "metadata": {},
   "outputs": [],
   "source": [
    "def inorder_recursive(node):\n",
    "    if node is not None and node.left is None:\n",
    "        print(\"\\n=>Left is none for\", node.val)\n",
    "    if node:\n",
    "        inorder_recursive(node.left)\n",
    "        print(\"*\", node.val, end=' ')\n",
    "        inorder_recursive(node.right)\n",
    "\n",
    "def postorder_recursive(node):\n",
    "    if node:\n",
    "        postorder_recursive(node.left)\n",
    "        postorder_recursive(node.right)\n",
    "        print(\"*\", node.val, end=' ')\n",
    "\n",
    "def preorder_recursive(node):\n",
    "    if node:\n",
    "        print(\"*\", node.val, end=' ')\n",
    "        preorder_recursive(node.left)\n",
    "        preorder_recursive(node.right)"
   ]
  },
  {
   "cell_type": "code",
   "execution_count": 52,
   "id": "8d82b26c-87ad-4a0f-954f-f29339626225",
   "metadata": {},
   "outputs": [],
   "source": [
    "root = TreeNode(1)\n",
    "root.left = TreeNode(2)\n",
    "root.right = TreeNode(3)\n",
    "root.left.left = TreeNode(4)\n",
    "root.left.right = TreeNode(5)"
   ]
  },
  {
   "cell_type": "markdown",
   "id": "8ed31b0e-dd20-4aec-aa38-e50bd212b18e",
   "metadata": {},
   "source": [
    "# Recursive Tree Traversal\n",
    "## 1. inorder\n",
    "\n",
    "        1\n",
    "       / \\\n",
    "      2   3\n",
    "     / \\\n",
    "    4   5\n",
    "\n",
    "The in-order traversal would visit the nodes in this order: 4 → 2 → 5 → 1 → 3"
   ]
  },
  {
   "cell_type": "code",
   "execution_count": 53,
   "id": "acc2b55e-4ead-46fa-b91b-87da1a92029e",
   "metadata": {},
   "outputs": [
    {
     "name": "stdout",
     "output_type": "stream",
     "text": [
      "\n",
      "=>Left is none for 4\n",
      "* 4 * 2 \n",
      "=>Left is none for 5\n",
      "* 5 * 1 \n",
      "=>Left is none for 3\n",
      "* 3 "
     ]
    }
   ],
   "source": [
    "inorder_recursive(root)"
   ]
  },
  {
   "cell_type": "code",
   "execution_count": 54,
   "id": "24fdead3-6a85-4dfd-91db-2a7c76f5c2af",
   "metadata": {},
   "outputs": [
    {
     "name": "stdout",
     "output_type": "stream",
     "text": [
      "* 4 * 5 * 2 * 3 * 1 "
     ]
    }
   ],
   "source": [
    "postorder_recursive(root)"
   ]
  },
  {
   "cell_type": "code",
   "execution_count": 56,
   "id": "3af145ae-e3b7-40cb-8f13-008d8c395c09",
   "metadata": {},
   "outputs": [
    {
     "name": "stdout",
     "output_type": "stream",
     "text": [
      "* 1 * 2 * 4 * 5 * 3 "
     ]
    }
   ],
   "source": [
    "preorder_recursive(root)"
   ]
  },
  {
   "cell_type": "code",
   "execution_count": null,
   "id": "fb61c29d-63f0-4655-a624-c9c88c22e30b",
   "metadata": {},
   "outputs": [],
   "source": []
  }
 ],
 "metadata": {
  "kernelspec": {
   "display_name": "Python 3 (ipykernel)",
   "language": "python",
   "name": "python3"
  },
  "language_info": {
   "codemirror_mode": {
    "name": "ipython",
    "version": 3
   },
   "file_extension": ".py",
   "mimetype": "text/x-python",
   "name": "python",
   "nbconvert_exporter": "python",
   "pygments_lexer": "ipython3",
   "version": "3.13.0"
  }
 },
 "nbformat": 4,
 "nbformat_minor": 5
}

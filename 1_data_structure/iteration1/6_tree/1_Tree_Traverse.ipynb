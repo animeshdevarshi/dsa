{
 "cells": [
  {
   "cell_type": "code",
   "execution_count": 1,
   "metadata": {},
   "outputs": [],
   "source": [
    "class TreeNode:\n",
    "    def __init__(self, value):\n",
    "        self.value = value\n",
    "        self.left = None\n",
    "        self.right = None"
   ]
  },
  {
   "cell_type": "code",
   "execution_count": 19,
   "metadata": {},
   "outputs": [],
   "source": [
    "class TreeNode:\n",
    "    def __init__(self, value):\n",
    "        self.value = value\n",
    "        self.left = None\n",
    "        self.right = None\n",
    "\n",
    "def max_depth(root):\n",
    "    if root is not None:\n",
    "        print(\"Root value\", root.value)\n",
    "    if root is None:\n",
    "        return 0\n",
    "    \n",
    "    left_depth = max_depth(root.left)  # Depth of left subtree\n",
    "    if root.left is not None:\n",
    "        print_string = f\"Root value : {root.value} | left value : {root.left.value} | left depth : {left_depth}\"\n",
    "        print(print_string)\n",
    "    else:\n",
    "        print_string = f\"Root value : {root.value} | left value : None | left depth : {left_depth}\"\n",
    "        print(print_string)\n",
    "    \n",
    "    right_depth = max_depth(root.right)  # Depth of right subtree\n",
    "    if root.right is not None:\n",
    "        print_string = f\"Root value : {root.value} | right value : {root.right.value} | right depth : {right_depth}\"\n",
    "        print(print_string)\n",
    "    else:\n",
    "        print_string = f\"Root value : {root.value} | right value : None | right depth : {right_depth}\"\n",
    "        print(print_string)\n",
    "    return 1 + max(left_depth, right_depth)  # Max depth + 1 for the current node"
   ]
  },
  {
   "cell_type": "code",
   "execution_count": 20,
   "metadata": {},
   "outputs": [
    {
     "name": "stdout",
     "output_type": "stream",
     "text": [
      "Root value 1\n",
      "Root value 2\n",
      "Root value 4\n",
      "Root value 7\n",
      "Root value : 7 | left value : None | left depth : 0\n",
      "Root value : 7 | right value : None | right depth : 0\n",
      "Root value : 4 | left value : 7 | left depth : 1\n",
      "Root value : 4 | right value : None | right depth : 0\n",
      "Root value : 2 | left value : 4 | left depth : 2\n",
      "Root value 5\n",
      "Root value : 5 | left value : None | left depth : 0\n",
      "Root value : 5 | right value : None | right depth : 0\n",
      "Root value : 2 | right value : 5 | right depth : 1\n",
      "Root value : 1 | left value : 2 | left depth : 3\n",
      "Root value 3\n",
      "Root value : 3 | left value : None | left depth : 0\n",
      "Root value 6\n",
      "Root value : 6 | left value : None | left depth : 0\n",
      "Root value : 6 | right value : None | right depth : 0\n",
      "Root value : 3 | right value : 6 | right depth : 1\n",
      "Root value : 1 | right value : 3 | right depth : 2\n",
      "Maximum Depth (Recursive): 4\n"
     ]
    }
   ],
   "source": [
    "# Create the tree\n",
    "root = TreeNode(1)\n",
    "root.left = TreeNode(2)\n",
    "root.right = TreeNode(3)\n",
    "root.left.left = TreeNode(4)\n",
    "root.left.right = TreeNode(5)\n",
    "root.right.right = TreeNode(6)\n",
    "root.left.left.left = TreeNode(7)\n",
    "\n",
    "# Find the maximum depth\n",
    "print(\"Maximum Depth (Recursive):\", max_depth(root))  # Output: 4"
   ]
  },
  {
   "cell_type": "code",
   "execution_count": null,
   "metadata": {},
   "outputs": [],
   "source": []
  },
  {
   "cell_type": "code",
   "execution_count": null,
   "metadata": {},
   "outputs": [],
   "source": []
  }
 ],
 "metadata": {
  "kernelspec": {
   "display_name": "Python 3 (ipykernel)",
   "language": "python",
   "name": "python3"
  },
  "language_info": {
   "codemirror_mode": {
    "name": "ipython",
    "version": 3
   },
   "file_extension": ".py",
   "mimetype": "text/x-python",
   "name": "python",
   "nbconvert_exporter": "python",
   "pygments_lexer": "ipython3",
   "version": "3.13.0"
  }
 },
 "nbformat": 4,
 "nbformat_minor": 4
}

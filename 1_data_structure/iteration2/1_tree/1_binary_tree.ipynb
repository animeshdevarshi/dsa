{
 "cells": [
  {
   "cell_type": "markdown",
   "metadata": {},
   "source": [
    "### This notebook will implement Binary Tree and common functions from scratch"
   ]
  },
  {
   "cell_type": "code",
   "execution_count": 4,
   "metadata": {},
   "outputs": [],
   "source": [
    "class TreeNode:\n",
    "    def __init__(self, value):\n",
    "        self.val = value\n",
    "        self.left = None\n",
    "        self.right = None"
   ]
  },
  {
   "cell_type": "code",
   "execution_count": 33,
   "metadata": {},
   "outputs": [],
   "source": [
    "\n",
    "class Tree:\n",
    "    def __init__(self):\n",
    "        self.root = None\n",
    "    \n",
    "    # Root -> Left -> Right\n",
    "    def pre_order_traversal(self, node):\n",
    "        \n",
    "        if node is None:\n",
    "            return\n",
    "        \n",
    "        print(node.val,  end=\" \")\n",
    "        self.pre_order_traversal(node.left)\n",
    "        self.pre_order_traversal(node.right)\n",
    "\n",
    "    # Left -> Root -> Right\n",
    "    def in_order_traversal(self, node):\n",
    "        if node is None:\n",
    "            return\n",
    "        \n",
    "        self.in_order_traversal(node.left)\n",
    "        print(node.val,  end=\" \")\n",
    "        self.in_order_traversal(node.right)\n",
    "\n",
    "    # Left -> Right -> Root\n",
    "    def post_order_traversal(self, node):\n",
    "        if node is None:\n",
    "            return\n",
    "        \n",
    "        self.post_order_traversal(node.left)\n",
    "        self.post_order_traversal(node.right)\n",
    "        print(node.val,  end=\" \")\n",
    "\n",
    "\n",
    "    # Root -> Right -> Left\n",
    "    def rev_post_order_traversal(self):\n",
    "        pass \n",
    "    \n",
    "    #Breadth-First Search\n",
    "    def level_order_traversal(self):\n",
    "        pass\n",
    "\n",
    "    def max_depth(root):\n",
    "        pass\n",
    "\n",
    "    def display(root):\n",
    "        pass"
   ]
  },
  {
   "cell_type": "code",
   "execution_count": 36,
   "metadata": {},
   "outputs": [],
   "source": [
    "root = TreeNode(1)\n",
    "root.left = TreeNode(2)\n",
    "root.right = TreeNode(3)\n",
    "root.left.left = TreeNode(4)\n",
    "root.left.right = TreeNode(5)\n",
    "root.right.left = TreeNode(6)\n",
    "root.right.right = TreeNode(7)\n",
    "# Expected tree structure:\n",
    "#         1\n",
    "#        / \\\n",
    "#       2   3\n",
    "#      / \\ / \\\n",
    "#     4  5 6  7"
   ]
  },
  {
   "cell_type": "markdown",
   "metadata": {},
   "source": [
    "```    \n",
    "    1\n",
    "   / \\\n",
    "  2   3\n",
    " / \\  / \\\n",
    "4  5 6   7\n",
    "```"
   ]
  },
  {
   "cell_type": "code",
   "execution_count": 38,
   "metadata": {},
   "outputs": [
    {
     "name": "stdout",
     "output_type": "stream",
     "text": [
      "1 2 4 5 3 6 7 \n",
      "4 2 5 1 6 3 7 \n",
      "4 5 2 6 7 3 1 "
     ]
    }
   ],
   "source": [
    "tree = Tree()\n",
    "tree.pre_order_traversal(root)\n",
    "print(\"\")\n",
    "tree.in_order_traversal(root)\n",
    "print(\"\")\n",
    "tree.post_order_traversal(root)"
   ]
  }
 ],
 "metadata": {
  "kernelspec": {
   "display_name": "venv",
   "language": "python",
   "name": "python3"
  },
  "language_info": {
   "codemirror_mode": {
    "name": "ipython",
    "version": 3
   },
   "file_extension": ".py",
   "mimetype": "text/x-python",
   "name": "python",
   "nbconvert_exporter": "python",
   "pygments_lexer": "ipython3",
   "version": "3.13.0"
  }
 },
 "nbformat": 4,
 "nbformat_minor": 2
}
